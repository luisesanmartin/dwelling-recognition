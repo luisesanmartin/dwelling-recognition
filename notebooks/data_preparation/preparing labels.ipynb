{
 "cells": [
  {
   "cell_type": "code",
   "execution_count": 1,
   "metadata": {},
   "outputs": [],
   "source": [
    "import geopandas as gpd"
   ]
  },
  {
   "cell_type": "code",
   "execution_count": 2,
   "metadata": {},
   "outputs": [],
   "source": [
    "file = '../../data/raw/train_tier_1/kam/4e7c7f-labels/4e7c7f.geojson'\n",
    "gdf = gpd.read_file(file)"
   ]
  },
  {
   "cell_type": "markdown",
   "metadata": {},
   "source": [
    "Projecting `gdf` into same coordinates as `tif` images:"
   ]
  },
  {
   "cell_type": "code",
   "execution_count": 3,
   "metadata": {},
   "outputs": [],
   "source": [
    "gdf = gdf.to_crs(epsg=32636)"
   ]
  },
  {
   "cell_type": "code",
   "execution_count": 4,
   "metadata": {},
   "outputs": [
    {
     "data": {
      "text/html": [
       "<div>\n",
       "<style scoped>\n",
       "    .dataframe tbody tr th:only-of-type {\n",
       "        vertical-align: middle;\n",
       "    }\n",
       "\n",
       "    .dataframe tbody tr th {\n",
       "        vertical-align: top;\n",
       "    }\n",
       "\n",
       "    .dataframe thead th {\n",
       "        text-align: right;\n",
       "    }\n",
       "</style>\n",
       "<table border=\"1\" class=\"dataframe\">\n",
       "  <thead>\n",
       "    <tr style=\"text-align: right;\">\n",
       "      <th></th>\n",
       "      <th>addr:city</th>\n",
       "      <th>addr:division</th>\n",
       "      <th>addr:parish</th>\n",
       "      <th>addr:village</th>\n",
       "      <th>building</th>\n",
       "      <th>building:condition</th>\n",
       "      <th>building:material</th>\n",
       "      <th>building:roof</th>\n",
       "      <th>source</th>\n",
       "      <th>scene_id</th>\n",
       "      <th>...</th>\n",
       "      <th>tourism</th>\n",
       "      <th>opening_hours</th>\n",
       "      <th>operator</th>\n",
       "      <th>phone</th>\n",
       "      <th>shop</th>\n",
       "      <th>amenity</th>\n",
       "      <th>construction</th>\n",
       "      <th>layer</th>\n",
       "      <th>man_made</th>\n",
       "      <th>geometry</th>\n",
       "    </tr>\n",
       "  </thead>\n",
       "  <tbody>\n",
       "    <tr>\n",
       "      <th>0</th>\n",
       "      <td>Kampala</td>\n",
       "      <td>Makindye</td>\n",
       "      <td>Ggaba</td>\n",
       "      <td>Ggaba Water</td>\n",
       "      <td>yes</td>\n",
       "      <td>good</td>\n",
       "      <td>cement_block</td>\n",
       "      <td>metal</td>\n",
       "      <td>UOM Field Survey</td>\n",
       "      <td>5bc0ac43c7e1cf0008e45e1e_georef_jpegcog</td>\n",
       "      <td>...</td>\n",
       "      <td>None</td>\n",
       "      <td>None</td>\n",
       "      <td>None</td>\n",
       "      <td>None</td>\n",
       "      <td>None</td>\n",
       "      <td>None</td>\n",
       "      <td>None</td>\n",
       "      <td>None</td>\n",
       "      <td>None</td>\n",
       "      <td>POLYGON ((459626.5961106891 28121.56856221434,...</td>\n",
       "    </tr>\n",
       "    <tr>\n",
       "      <th>1</th>\n",
       "      <td>Kampala</td>\n",
       "      <td>Makindye</td>\n",
       "      <td>Ggaba</td>\n",
       "      <td>Ggaba Trading Center</td>\n",
       "      <td>yes</td>\n",
       "      <td>good</td>\n",
       "      <td>concrete</td>\n",
       "      <td>tile</td>\n",
       "      <td>UOM Field Survey</td>\n",
       "      <td>5bc0ac43c7e1cf0008e45e1e_georef_jpegcog</td>\n",
       "      <td>...</td>\n",
       "      <td>None</td>\n",
       "      <td>None</td>\n",
       "      <td>None</td>\n",
       "      <td>None</td>\n",
       "      <td>None</td>\n",
       "      <td>None</td>\n",
       "      <td>None</td>\n",
       "      <td>None</td>\n",
       "      <td>None</td>\n",
       "      <td>POLYGON ((459416.8382452434 28816.90015971013,...</td>\n",
       "    </tr>\n",
       "    <tr>\n",
       "      <th>2</th>\n",
       "      <td>Kampala</td>\n",
       "      <td>Makindye</td>\n",
       "      <td>Ggaba</td>\n",
       "      <td>Ggaba Mission</td>\n",
       "      <td>yes</td>\n",
       "      <td>good</td>\n",
       "      <td>cement_block</td>\n",
       "      <td>tile</td>\n",
       "      <td>UOM Field Survey</td>\n",
       "      <td>5bc0ac43c7e1cf0008e45e1e_georef_jpegcog</td>\n",
       "      <td>...</td>\n",
       "      <td>None</td>\n",
       "      <td>None</td>\n",
       "      <td>None</td>\n",
       "      <td>None</td>\n",
       "      <td>None</td>\n",
       "      <td>None</td>\n",
       "      <td>None</td>\n",
       "      <td>None</td>\n",
       "      <td>None</td>\n",
       "      <td>POLYGON ((459415.9133714651 28385.22725130611,...</td>\n",
       "    </tr>\n",
       "    <tr>\n",
       "      <th>3</th>\n",
       "      <td>Kampala</td>\n",
       "      <td>Makindye</td>\n",
       "      <td>Ggaba</td>\n",
       "      <td>Ggaba Mission</td>\n",
       "      <td>yes</td>\n",
       "      <td>good</td>\n",
       "      <td>cement_block</td>\n",
       "      <td>tile</td>\n",
       "      <td>UOM Field Survey</td>\n",
       "      <td>5bc0ac43c7e1cf0008e45e1e_georef_jpegcog</td>\n",
       "      <td>...</td>\n",
       "      <td>None</td>\n",
       "      <td>None</td>\n",
       "      <td>None</td>\n",
       "      <td>None</td>\n",
       "      <td>None</td>\n",
       "      <td>None</td>\n",
       "      <td>None</td>\n",
       "      <td>None</td>\n",
       "      <td>None</td>\n",
       "      <td>POLYGON ((459402.9270025893 28369.62045768812,...</td>\n",
       "    </tr>\n",
       "    <tr>\n",
       "      <th>4</th>\n",
       "      <td>Kampala</td>\n",
       "      <td>Makindye</td>\n",
       "      <td>Ggaba</td>\n",
       "      <td>Ggaba Mission</td>\n",
       "      <td>yes</td>\n",
       "      <td>good</td>\n",
       "      <td>cement_block</td>\n",
       "      <td>tile</td>\n",
       "      <td>UOM Field Survey</td>\n",
       "      <td>5bc0ac43c7e1cf0008e45e1e_georef_jpegcog</td>\n",
       "      <td>...</td>\n",
       "      <td>None</td>\n",
       "      <td>None</td>\n",
       "      <td>None</td>\n",
       "      <td>None</td>\n",
       "      <td>None</td>\n",
       "      <td>None</td>\n",
       "      <td>None</td>\n",
       "      <td>None</td>\n",
       "      <td>None</td>\n",
       "      <td>POLYGON ((459410.038408004 28399.79557918475, ...</td>\n",
       "    </tr>\n",
       "  </tbody>\n",
       "</table>\n",
       "<p>5 rows × 26 columns</p>\n",
       "</div>"
      ],
      "text/plain": [
       "  addr:city addr:division addr:parish          addr:village building  \\\n",
       "0   Kampala      Makindye       Ggaba           Ggaba Water      yes   \n",
       "1   Kampala      Makindye       Ggaba  Ggaba Trading Center      yes   \n",
       "2   Kampala      Makindye       Ggaba         Ggaba Mission      yes   \n",
       "3   Kampala      Makindye       Ggaba         Ggaba Mission      yes   \n",
       "4   Kampala      Makindye       Ggaba         Ggaba Mission      yes   \n",
       "\n",
       "  building:condition building:material building:roof            source  \\\n",
       "0               good      cement_block         metal  UOM Field Survey   \n",
       "1               good          concrete          tile  UOM Field Survey   \n",
       "2               good      cement_block          tile  UOM Field Survey   \n",
       "3               good      cement_block          tile  UOM Field Survey   \n",
       "4               good      cement_block          tile  UOM Field Survey   \n",
       "\n",
       "                                  scene_id  ... tourism opening_hours  \\\n",
       "0  5bc0ac43c7e1cf0008e45e1e_georef_jpegcog  ...    None          None   \n",
       "1  5bc0ac43c7e1cf0008e45e1e_georef_jpegcog  ...    None          None   \n",
       "2  5bc0ac43c7e1cf0008e45e1e_georef_jpegcog  ...    None          None   \n",
       "3  5bc0ac43c7e1cf0008e45e1e_georef_jpegcog  ...    None          None   \n",
       "4  5bc0ac43c7e1cf0008e45e1e_georef_jpegcog  ...    None          None   \n",
       "\n",
       "  operator phone  shop amenity construction layer man_made  \\\n",
       "0     None  None  None    None         None  None     None   \n",
       "1     None  None  None    None         None  None     None   \n",
       "2     None  None  None    None         None  None     None   \n",
       "3     None  None  None    None         None  None     None   \n",
       "4     None  None  None    None         None  None     None   \n",
       "\n",
       "                                            geometry  \n",
       "0  POLYGON ((459626.5961106891 28121.56856221434,...  \n",
       "1  POLYGON ((459416.8382452434 28816.90015971013,...  \n",
       "2  POLYGON ((459415.9133714651 28385.22725130611,...  \n",
       "3  POLYGON ((459402.9270025893 28369.62045768812,...  \n",
       "4  POLYGON ((459410.038408004 28399.79557918475, ...  \n",
       "\n",
       "[5 rows x 26 columns]"
      ]
     },
     "execution_count": 4,
     "metadata": {},
     "output_type": "execute_result"
    }
   ],
   "source": [
    "gdf.head()"
   ]
  },
  {
   "cell_type": "code",
   "execution_count": 5,
   "metadata": {},
   "outputs": [
    {
     "data": {
      "text/plain": [
       "4056"
      ]
     },
     "execution_count": 5,
     "metadata": {},
     "output_type": "execute_result"
    }
   ],
   "source": [
    "len(gdf)"
   ]
  },
  {
   "cell_type": "code",
   "execution_count": 1,
   "metadata": {},
   "outputs": [
    {
     "ename": "NameError",
     "evalue": "name 'gdf' is not defined",
     "output_type": "error",
     "traceback": [
      "\u001b[0;31m---------------------------------------------------------------------------\u001b[0m",
      "\u001b[0;31mNameError\u001b[0m                                 Traceback (most recent call last)",
      "\u001b[0;32m<ipython-input-1-c980856e084b>\u001b[0m in \u001b[0;36m<module>\u001b[0;34m\u001b[0m\n\u001b[0;32m----> 1\u001b[0;31m \u001b[0mgdf\u001b[0m\u001b[0;34m.\u001b[0m\u001b[0mplot\u001b[0m\u001b[0;34m(\u001b[0m\u001b[0;34m)\u001b[0m\u001b[0;34m\u001b[0m\u001b[0m\n\u001b[0m",
      "\u001b[0;31mNameError\u001b[0m: name 'gdf' is not defined"
     ]
    }
   ],
   "source": [
    "gdf.plot()"
   ]
  },
  {
   "cell_type": "code",
   "execution_count": 7,
   "metadata": {},
   "outputs": [],
   "source": [
    "left = 458403.250\n",
    "right = 459790.849\n",
    "up = 28967.285\n",
    "down = 27553.041"
   ]
  },
  {
   "cell_type": "code",
   "execution_count": 8,
   "metadata": {},
   "outputs": [],
   "source": [
    "grid_x = 40024\n",
    "grid_y = 39270"
   ]
  },
  {
   "cell_type": "code",
   "execution_count": 9,
   "metadata": {},
   "outputs": [],
   "source": [
    "step_x = (up - down) / grid_x\n",
    "step_y = (right - left) / grid_y"
   ]
  },
  {
   "cell_type": "code",
   "execution_count": null,
   "metadata": {},
   "outputs": [],
   "source": [
    "points = []\n",
    "x = down\n",
    "y = left\n",
    "\n",
    "while x < up:\n",
    "    \n",
    "    #print('progres:', (x-down)/(up-down)*100, '%')\n",
    "    coord_x = (x + step_x) / 2\n",
    "    \n",
    "    while y < right:\n",
    "        \n",
    "        coord_y = (y + step_y) / 2\n",
    "        coords = coord_x, coord_y\n",
    "        points.append(coords)\n",
    "        y += step_y\n",
    "    \n",
    "    y = left\n",
    "    x += step_x"
   ]
  },
  {
   "cell_type": "code",
   "execution_count": null,
   "metadata": {},
   "outputs": [],
   "source": [
    "len(points)"
   ]
  },
  {
   "cell_type": "code",
   "execution_count": null,
   "metadata": {},
   "outputs": [],
   "source": [
    "grid_x * grid_y"
   ]
  }
 ],
 "metadata": {
  "kernelspec": {
   "display_name": "Python 3",
   "language": "python",
   "name": "python3"
  },
  "language_info": {
   "codemirror_mode": {
    "name": "ipython",
    "version": 3
   },
   "file_extension": ".py",
   "mimetype": "text/x-python",
   "name": "python",
   "nbconvert_exporter": "python",
   "pygments_lexer": "ipython3",
   "version": "3.5.2"
  }
 },
 "nbformat": 4,
 "nbformat_minor": 4
}
